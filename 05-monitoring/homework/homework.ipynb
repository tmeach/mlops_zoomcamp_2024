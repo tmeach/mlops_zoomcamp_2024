{
 "cells": [
  {
   "cell_type": "markdown",
   "id": "2244066b-3b1a-4cde-b7d6-05c6ac6a2d99",
   "metadata": {},
   "source": [
    "## Homework\n",
    "The goal of this homework is to familiarize users with monitoring for ML batch services, using PostgreSQL database to store metrics and Grafana to visualize them."
   ]
  },
  {
   "cell_type": "markdown",
   "id": "63b88efa-2ece-4045-aadd-9dfcb6a87fbf",
   "metadata": {},
   "source": [
    "## Q1. Prepare the dataset\n",
    "Start with baseline_model_nyc_taxi_data.ipynb. Download the March 2024 Green Taxi data. We will use this data to simulate a production usage of a taxi trip duration prediction service."
   ]
  },
  {
   "cell_type": "markdown",
   "id": "16fcd09e-7f1f-4950-9260-203cdb744e73",
   "metadata": {},
   "source": [
    "#### load a data"
   ]
  },
  {
   "cell_type": "code",
   "execution_count": 8,
   "id": "e2c46e49-4d77-4b0c-8fca-921de758463d",
   "metadata": {},
   "outputs": [],
   "source": [
    "import requests \n",
    "import datetime\n",
    "import pandas as pd\n",
    "\n",
    "from joblib import load, dump\n",
    "from tqdm import tqdm"
   ]
  },
  {
   "cell_type": "code",
   "execution_count": 13,
   "id": "6c5181fe-40c8-4f86-83ea-2c905dc3a36b",
   "metadata": {},
   "outputs": [
    {
     "name": "stdout",
     "output_type": "stream",
     "text": [
      "Download files:\n"
     ]
    },
    {
     "name": "stderr",
     "output_type": "stream",
     "text": [
      "green_tripdata_2024-03.parquet: 100%|█| 1372372/1372372 [00:09<00:00, 138864.52it/s, save to ../data\n",
      "green_tripdata_2024-02.parquet: 100%|█| 1283805/1283805 [00:09<00:00, 142423.75it/s, save to ../data\n"
     ]
    }
   ],
   "source": [
    "files = [('green_tripdata_2024-03.parquet', '../data'), ('green_tripdata_2024-02.parquet', '../data')]\n",
    "\n",
    "print('Download files:')\n",
    "\n",
    "for file, path in files:\n",
    "    url=f'https://d37ci6vzurychx.cloudfront.net/trip-data/{file}'\n",
    "    resp=requests.get(url, stream=True)\n",
    "    save_path=f'{path}/{file}'\n",
    "    with open(save_path, \"wb\") as handle:\n",
    "        for data in tqdm(resp.iter_content(),\n",
    "                        desc=f'{file}',\n",
    "                        postfix=f'save to {save_path}',\n",
    "                        total=int(resp.headers['Content-Length'])):\n",
    "            handle.write(data)\n"
   ]
  },
  {
   "cell_type": "code",
   "execution_count": 72,
   "id": "f9d2d9d8-96dd-47d3-8263-d90f03643af9",
   "metadata": {},
   "outputs": [],
   "source": [
    "df_03 = pd.read_parquet('../data/green_tripdata_2024-03.parquet')"
   ]
  },
  {
   "cell_type": "code",
   "execution_count": 73,
   "id": "a24f5579-ded5-40c9-9595-8db7b2873ac7",
   "metadata": {},
   "outputs": [
    {
     "data": {
      "text/plain": [
       "(57457, 20)"
      ]
     },
     "execution_count": 73,
     "metadata": {},
     "output_type": "execute_result"
    }
   ],
   "source": [
    "df_03.shape"
   ]
  },
  {
   "cell_type": "markdown",
   "id": "28e39c68-dc2a-430e-9891-b3aaf2ef7e44",
   "metadata": {},
   "source": [
    "What is the shape of the downloaded data? How many rows are there?\n",
    "\n",
    "- 72044\n",
    "- 78537\n",
    "- 57457\n",
    "- 54396"
   ]
  },
  {
   "cell_type": "markdown",
   "id": "4ae26aff-24d7-42ce-82fa-1518bc007bfb",
   "metadata": {},
   "source": [
    "### Answer:\n",
    "- 57457"
   ]
  },
  {
   "cell_type": "markdown",
   "id": "572fe234-a355-425b-bec7-cb7d244fc061",
   "metadata": {},
   "source": [
    "## Q2. Metric\n",
    "Let's expand the number of data quality metrics we’d like to monitor! Please add one metric of your choice and a quantile value for the \"fare_amount\" column (quantile=0.5).\n",
    "\n",
    "Hint: explore evidently metric ColumnQuantileMetric (from evidently.metrics import ColumnQuantileMetric)\n",
    "\n",
    "What metric did you choose?"
   ]
  },
  {
   "cell_type": "markdown",
   "id": "b1013c39-2f59-4f1e-8466-c24293f019ba",
   "metadata": {},
   "source": [
    "- ColumnMissingValuesMetric"
   ]
  },
  {
   "cell_type": "markdown",
   "id": "78b6c490-42e0-46f7-8f32-827f8c3a5e9b",
   "metadata": {},
   "source": [
    "## Q3. Monitoring\n",
    "Let’s start monitoring. Run expanded monitoring for a new batch of data (March 2024).\n",
    "\n",
    "What is the maximum value of metric quantile = 0.5 on the \"fare_amount\" column during March 2024 (calculated daily)?\n",
    "\n",
    "- 10\n",
    "- 12.5\n",
    "- 14.2\n",
    "14.8"
   ]
  },
  {
   "cell_type": "code",
   "execution_count": null,
   "id": "ab17f9a3-5ec8-4d61-b9d9-44e1ce6a2278",
   "metadata": {},
   "outputs": [],
   "source": []
  },
  {
   "cell_type": "code",
   "execution_count": null,
   "id": "07a784e7-54fd-4823-a72f-69eb6bbf20cc",
   "metadata": {},
   "outputs": [],
   "source": []
  },
  {
   "cell_type": "code",
   "execution_count": null,
   "id": "09afc818-b5d4-49be-b34a-79373224b975",
   "metadata": {},
   "outputs": [],
   "source": []
  },
  {
   "cell_type": "code",
   "execution_count": null,
   "id": "b8b5688f-61c3-4a42-8d1a-568d215b2a72",
   "metadata": {},
   "outputs": [],
   "source": []
  },
  {
   "cell_type": "code",
   "execution_count": null,
   "id": "a3ef9334-8537-4d94-aa17-532dbc768dc8",
   "metadata": {},
   "outputs": [],
   "source": []
  },
  {
   "cell_type": "code",
   "execution_count": null,
   "id": "2e009eac-ce15-4b14-8335-c2b22628adc0",
   "metadata": {},
   "outputs": [],
   "source": []
  },
  {
   "cell_type": "code",
   "execution_count": null,
   "id": "fc612825-f916-48c1-8a9a-65ae6c4b0578",
   "metadata": {},
   "outputs": [],
   "source": []
  }
 ],
 "metadata": {
  "kernelspec": {
   "display_name": "Python 3 (ipykernel)",
   "language": "python",
   "name": "python3"
  },
  "language_info": {
   "codemirror_mode": {
    "name": "ipython",
    "version": 3
   },
   "file_extension": ".py",
   "mimetype": "text/x-python",
   "name": "python",
   "nbconvert_exporter": "python",
   "pygments_lexer": "ipython3",
   "version": "3.10.13"
  }
 },
 "nbformat": 4,
 "nbformat_minor": 5
}
